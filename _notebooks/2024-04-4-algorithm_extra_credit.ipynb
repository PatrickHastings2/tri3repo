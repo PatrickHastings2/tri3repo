{
 "cells": [
  {
   "cell_type": "markdown",
   "metadata": {},
   "source": [
    "---\n",
    "comments: true\n",
    "layout: post\n",
    "title: Algo-rythm Dances!\n",
    "description: My takeaways and learnings from the Algo-rythm Dances\n",
    "courses: { compsci: {week: 26} }\n",
    "type: hacks\n",
    "---"
   ]
  },
  {
   "cell_type": "markdown",
   "metadata": {},
   "source": [
    "<iframe src=\"https://drive.google.com/file/d/11aXLz2UJiKwvQCgOweHpXAXPH2Vx3Kon/preview\" width=\"640\" height=\"480\" allow=\"autoplay\"></iframe>"
   ]
  },
  {
   "cell_type": "markdown",
   "metadata": {},
   "source": [
    "<iframe src=\"https://drive.google.com/file/d/1221dA_KhK3HRrFxpVRjK4Sl56svVwFF1/preview\" width=\"640\" height=\"480\" allow=\"autoplay\"></iframe>"
   ]
  },
  {
   "cell_type": "markdown",
   "metadata": {},
   "source": [
    "## What I learned from each Performance"
   ]
  },
  {
   "cell_type": "markdown",
   "metadata": {},
   "source": [
    "## Insertion Sort\n",
    "\n",
    "Insertion sort iterates through an array, starting from the second element, comparing each element with the sorted portion on its left, shifting larger elements to the right, and inserting the current element into its correct position. It repeats this process for next element, resulting in a sorted array.\n",
    "\n",
    "\n",
    "## Bogo Sort (Stupid Sort)\n",
    "\n",
    "\n",
    "Bogo sort shuffles the elements of an array randomly and checks if they are sorted, repeating until the array is sorted, which gives it an average-case time complexity of O((n+1)!), making it a very slow method for sorting.\n",
    "\n",
    "\n",
    "## Quick Sort\n",
    "\n",
    "\n",
    "Quick sort sorts an array by selecting a pivot, partitioning the array into two sub-arrays based on the pivot, and recursively sorting them. With an average time complexity of O(n log n), it's one of the fastest sorting algorithms available.\n",
    "\n",
    "\n",
    "## Bubble Sort\n",
    "\n",
    "\n",
    "Bubble sort repeatedly steps through the list, compares adjacent elements, and swaps them if they are in the wrong order, iterating until no swaps are needed. Despite its simplicity, its average-case and worst-case time complexity of O(n^2) make it inefficient for large datasets.\n",
    "\n",
    "\n",
    "## Merge Sort\n",
    "\n",
    "\n",
    "Merge sort divides the array into smaller sub-arrays, recursively sorts them, and then merges them back together in sorted order. Its efficient divide-and-conquer approach results in an average and worst-case time complexity of O(n log n), making it suitable for sorting large datasets.\n",
    "\n",
    "\n",
    "## Selection Sort\n",
    "\n",
    "Selection sort iteratively selects the smallest (or largest) element from the unsorted portion of the array and swaps it with the element at the beginning of the unsorted portion. This process is repeated until the entire array is sorted, with an average and worst-case time complexity of O(n^2), making it inefficient for large datasets.\n",
    "\n",
    "\n",
    "\n",
    "\n",
    "\n",
    "\n",
    "\n",
    "\n",
    "\n",
    "\n",
    "\n"
   ]
  }
 ],
 "metadata": {
  "language_info": {
   "name": "python"
  },
  "orig_nbformat": 4
 },
 "nbformat": 4,
 "nbformat_minor": 2
}
